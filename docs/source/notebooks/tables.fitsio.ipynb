{
 "cells": [
  {
   "cell_type": "markdown",
   "metadata": {},
   "source": [
    "# tables.fitsio"
   ]
  },
  {
   "cell_type": "markdown",
   "metadata": {},
   "source": [
    "The tables.fitsio package contains IO utilities for FITS and GEIS images."
   ]
  },
  {
   "cell_type": "markdown",
   "metadata": {},
   "source": [
    "<a id='notes'></a>\n",
    "\n",
    "## Notes"
   ]
  },
  {
   "cell_type": "markdown",
   "metadata": {},
   "source": [
    "Many of the tasks in the this package are no longer in common usage and are not covered here.  If there is a task you would like to request please contact the [STAK team](http://stak.readthedocs.io/en/latest/).\n",
    "\n",
    "Contents:\n",
    "\n",
    "* [catfits](#catfits)\n",
    "* [stwfits](#stwfits)"
   ]
  },
  {
   "cell_type": "markdown",
   "metadata": {},
   "source": [
    "<br>"
   ]
  },
  {
   "cell_type": "markdown",
   "metadata": {},
   "source": [
    "<a id='catfits'></a>\n",
    "\n",
    "## catfits"
   ]
  },
  {
   "cell_type": "markdown",
   "metadata": {},
   "source": [
    "** Please review the [Notes](#notes) section above before running any examples in this notebook **\n",
    "\n",
    "The catfits task was used to quickly produce a catalog of fits headers from a file list.  In the below example we provide the summary catalog provided by ``astropy.io.fits``."
   ]
  },
  {
   "cell_type": "code",
   "execution_count": 1,
   "metadata": {
    "collapsed": true
   },
   "outputs": [],
   "source": [
    "# Standard Imports\n",
    "import glob\n",
    "\n",
    "# Astronomy Specific Imports\n",
    "from astropy.io import fits"
   ]
  },
  {
   "cell_type": "code",
   "execution_count": 2,
   "metadata": {
    "collapsed": false
   },
   "outputs": [
    {
     "name": "stdout",
     "output_type": "stream",
     "text": [
      "Filename: /eng/ssb/iraf_transition/test_data/iczgs3ygq_flt.fits\n",
      "No.    Name         Type      Cards   Dimensions   Format\n",
      "0    PRIMARY     PrimaryHDU     266   ()              \n",
      "1    SCI         ImageHDU       140   (1014, 1014)   float32   \n",
      "2    ERR         ImageHDU        51   (1014, 1014)   float32   \n",
      "3    DQ          ImageHDU        43   (1014, 1014)   int16   \n",
      "4    SAMP        ImageHDU        37   (1014, 1014)   int16   \n",
      "5    TIME        ImageHDU        37   (1014, 1014)   float32   \n",
      "6    WCSCORR     BinTableHDU     59   7R x 24C     [40A, I, A, 24A, 24A, 24A, 24A, D, D, D, D, D, D, D, D, 24A, 24A, D, D, D, D, J, 40A, 128A]   \n",
      "Filename: /eng/ssb/iraf_transition/test_data/iczgs3ygq_newdtype_flt.fits\n",
      "No.    Name         Type      Cards   Dimensions   Format\n",
      "0    PRIMARY     PrimaryHDU     266   ()              \n",
      "1    SCI         ImageHDU       140   (1014, 1014)   int32   \n",
      "2    ERR         ImageHDU        51   (1014, 1014)   float32   \n",
      "3    DQ          ImageHDU        43   (1014, 1014)   int16   \n",
      "4    SAMP        ImageHDU        37   (1014, 1014)   int16   \n",
      "5    TIME        ImageHDU        37   (1014, 1014)   float32   \n",
      "6    WCSCORR     BinTableHDU     59   7R x 24C     [40A, I, A, 24A, 24A, 24A, 24A, D, D, D, D, D, D, D, D, 24A, 24A, D, D, D, D, J, 40A, 128A]   \n",
      "Filename: /eng/ssb/iraf_transition/test_data/iczgs3y5q_flt.fits\n",
      "No.    Name         Type      Cards   Dimensions   Format\n",
      "0    PRIMARY     PrimaryHDU     265   ()              \n",
      "1    SCI         ImageHDU       140   (1014, 1014)   float32   \n",
      "2    ERR         ImageHDU        51   (1014, 1014)   float32   \n",
      "3    DQ          ImageHDU        43   (1014, 1014)   int16   \n",
      "4    SAMP        ImageHDU        37   (1014, 1014)   int16   \n",
      "5    TIME        ImageHDU        37   (1014, 1014)   float32   \n",
      "6    WCSCORR     BinTableHDU     59   7R x 24C     [40A, I, A, 24A, 24A, 24A, 24A, D, D, D, D, D, D, D, D, 24A, 24A, D, D, D, D, J, 40A, 128A]   \n",
      "Filename: /eng/ssb/iraf_transition/test_data/imarith_out.fits\n",
      "No.    Name         Type      Cards   Dimensions   Format\n",
      "0    PRIMARY     PrimaryHDU     266   ()              \n",
      "1    SCI         ImageHDU       140   (1014, 1014)   float32   \n",
      "2    ERR         ImageHDU        51   (1014, 1014)   float32   \n",
      "3    DQ          ImageHDU        43   (1014, 1014)   int16   \n",
      "4    SAMP        ImageHDU        37   (1014, 1014)   int16   \n",
      "5    TIME        ImageHDU        37   (1014, 1014)   float32   \n",
      "6    WCSCORR     BinTableHDU     59   7R x 24C     [40A, I, A, 24A, 24A, 24A, 24A, D, D, D, D, D, D, D, D, 24A, 24A, D, D, D, D, J, 40A, 128A]   \n",
      "Filename: /eng/ssb/iraf_transition/test_data/imfunction2_out.fits\n",
      "No.    Name         Type      Cards   Dimensions   Format\n",
      "0    PRIMARY     PrimaryHDU     266   ()              \n",
      "1    SCI         ImageHDU       140   (1014, 1014)   float64   \n",
      "2    ERR         ImageHDU        51   (1014, 1014)   float32   \n",
      "3    DQ          ImageHDU        43   (1014, 1014)   int16   \n",
      "4    SAMP        ImageHDU        37   (1014, 1014)   int16   \n",
      "5    TIME        ImageHDU        37   (1014, 1014)   float32   \n",
      "6    WCSCORR     BinTableHDU     59   7R x 24C     [40A, I, A, 24A, 24A, 24A, 24A, D, D, D, D, D, D, D, D, 24A, 24A, D, D, D, D, J, 40A, 128A]   \n",
      "Filename: /eng/ssb/iraf_transition/test_data/jczgx1q1q_flc.fits\n",
      "No.    Name         Type      Cards   Dimensions   Format\n",
      "0    PRIMARY     PrimaryHDU     270   ()              \n",
      "1    SCI         ImageHDU       200   (4096, 2048)   float32   \n",
      "2    ERR         ImageHDU        56   (4096, 2048)   float32   \n",
      "3    DQ          ImageHDU        48   (4096, 2048)   int16   \n",
      "4    SCI         ImageHDU       198   (4096, 2048)   float32   \n",
      "5    ERR         ImageHDU        56   (4096, 2048)   float32   \n",
      "6    DQ          ImageHDU        48   (4096, 2048)   int16   \n",
      "7    D2IMARR     ImageHDU        15   (64, 32)     float32   \n",
      "8    D2IMARR     ImageHDU        15   (64, 32)     float32   \n",
      "9    D2IMARR     ImageHDU        15   (64, 32)     float32   \n",
      "10   D2IMARR     ImageHDU        15   (64, 32)     float32   \n",
      "11   WCSDVARR    ImageHDU        15   (64, 32)     float32   \n",
      "12   WCSDVARR    ImageHDU        15   (64, 32)     float32   \n",
      "13   WCSDVARR    ImageHDU        15   (64, 32)     float32   \n",
      "14   WCSDVARR    ImageHDU        15   (64, 32)     float32   \n",
      "15   WCSCORR     BinTableHDU     59   14R x 24C    [40A, I, A, 24A, 24A, 24A, 24A, D, D, D, D, D, D, D, D, 24A, 24A, D, D, D, D, J, 40A, 128A]   \n",
      "Filename: /eng/ssb/iraf_transition/test_data/jczgx1ppq_flc.fits\n",
      "No.    Name         Type      Cards   Dimensions   Format\n",
      "0    PRIMARY     PrimaryHDU     270   ()              \n",
      "1    SCI         ImageHDU       200   (4096, 2048)   float32   \n",
      "2    ERR         ImageHDU        56   (4096, 2048)   float32   \n",
      "3    DQ          ImageHDU        48   (4096, 2048)   int16   \n",
      "4    SCI         ImageHDU       198   (4096, 2048)   float32   \n",
      "5    ERR         ImageHDU        56   (4096, 2048)   float32   \n",
      "6    DQ          ImageHDU        48   (4096, 2048)   int16   \n",
      "7    D2IMARR     ImageHDU        15   (64, 32)     float32   \n",
      "8    D2IMARR     ImageHDU        15   (64, 32)     float32   \n",
      "9    D2IMARR     ImageHDU        15   (64, 32)     float32   \n",
      "10   D2IMARR     ImageHDU        15   (64, 32)     float32   \n",
      "11   WCSDVARR    ImageHDU        15   (64, 32)     float32   \n",
      "12   WCSDVARR    ImageHDU        15   (64, 32)     float32   \n",
      "13   WCSDVARR    ImageHDU        15   (64, 32)     float32   \n",
      "14   WCSDVARR    ImageHDU        15   (64, 32)     float32   \n",
      "15   WCSCORR     BinTableHDU     59   14R x 24C    [40A, I, A, 24A, 24A, 24A, 24A, D, D, D, D, D, D, D, D, 24A, 24A, D, D, D, D, J, 40A, 128A]   \n",
      "Filename: /eng/ssb/iraf_transition/test_data/imcopy_out.fits\n",
      "No.    Name         Type      Cards   Dimensions   Format\n",
      "0    PRIMARY     PrimaryHDU     266   ()              \n",
      "1    SCI         ImageHDU       140   (1014, 1014)   float32   \n",
      "2    ERR         ImageHDU        51   (1014, 1014)   float32   \n",
      "3    DQ          ImageHDU        43   (1014, 1014)   int16   \n",
      "4    SAMP        ImageHDU        37   (1014, 1014)   int16   \n",
      "5    TIME        ImageHDU        37   (1014, 1014)   float32   \n",
      "6    WCSCORR     BinTableHDU     59   7R x 24C     [40A, I, A, 24A, 24A, 24A, 24A, D, D, D, D, D, D, D, D, 24A, 24A, D, D, D, D, J, 40A, 128A]   \n",
      "Filename: /eng/ssb/iraf_transition/test_data/imfunction_out.fits\n",
      "No.    Name         Type      Cards   Dimensions   Format\n",
      "0    PRIMARY     PrimaryHDU     266   ()              \n",
      "1    SCI         ImageHDU       140   (1014, 1014)   float32   \n",
      "2    ERR         ImageHDU        51   (1014, 1014)   float32   \n",
      "3    DQ          ImageHDU        43   (1014, 1014)   int16   \n",
      "4    SAMP        ImageHDU        37   (1014, 1014)   int16   \n",
      "5    TIME        ImageHDU        37   (1014, 1014)   float32   \n",
      "6    WCSCORR     BinTableHDU     59   7R x 24C     [40A, I, A, 24A, 24A, 24A, 24A, D, D, D, D, D, D, D, D, 24A, 24A, D, D, D, D, J, 40A, 128A]   \n"
     ]
    }
   ],
   "source": [
    "# Change these values to your desired data files, glob will capture all wildcard matches\n",
    "test_data = glob.glob('/eng/ssb/iraf_transition/test_data/*.fits')\n",
    "\n",
    "for filename in test_data:\n",
    "    fits.info(filename)"
   ]
  },
  {
   "cell_type": "markdown",
   "metadata": {},
   "source": [
    "<br>"
   ]
  },
  {
   "cell_type": "markdown",
   "metadata": {},
   "source": [
    "<a id='stwfits'></a>\n",
    "\n",
    "## stwfits"
   ]
  },
  {
   "cell_type": "markdown",
   "metadata": {},
   "source": [
    "** Please review the [Notes](#notes) section above before running any examples in this notebook **\n",
    "\n",
    "stwfits is used to translate a GEIS, STSDAS tables, or ascii file to an standard FITS format.  Here we will cover how to convert a GEIS file to a FITS files using the ``stsci.tools.readgeis`` function.  There are two wasy to use this function, through the command line, or through a Python session or script.  For instructions on running this task on the command line see the ``stsci.tools`` [Conversion Utilities documentation](http://ssb.stsci.edu/doc/stsci_python_dev/stsci.tools.doc/html/convert.html).  Below we show an example of running this task in a python session.  You may or may not need to byteswap your image data depending on which system it was originally written on."
   ]
  },
  {
   "cell_type": "code",
   "execution_count": 1,
   "metadata": {
    "collapsed": false
   },
   "outputs": [],
   "source": [
    "from stsci.tools import readgeis"
   ]
  },
  {
   "cell_type": "code",
   "execution_count": 13,
   "metadata": {
    "collapsed": false
   },
   "outputs": [
    {
     "name": "stdout",
     "output_type": "stream",
     "text": [
      "===================================\n",
      "= WARNING:                        =\n",
      "=  Input image:                   =\n",
      "/eng/ssb/iraf_transition/test_data/x31g0108t.c0h[1]\n",
      "=  had floating point data values =\n",
      "=  of NaN and/or Inf.             =\n",
      "===================================\n",
      "===================================\n",
      "=  This file may have been        =\n",
      "=  written out on a platform      =\n",
      "=  with a different byte-order.   =\n",
      "=                                 =\n",
      "=  Please verify that the values  =\n",
      "=  are correct or apply the       =\n",
      "=  '.byteswap()' method.          =\n",
      "===================================\n",
      "\n"
     ]
    }
   ],
   "source": [
    "filename = '/eng/ssb/iraf_transition/test_data/x31g0108t.c0h'\n",
    "hdulist = readgeis.readgeis(filename)\n",
    "hdulist[1].data = hdulist[1].data.byteswap()\n",
    "del hdulist[1].header['CD1_1']\n",
    "del hdulist[1].header['CD2_2']\n",
    "hdulist.writeto(filename.replace('.c0h','.fits'), clobber=True)"
   ]
  },
  {
   "cell_type": "markdown",
   "metadata": {},
   "source": [
    "<br>"
   ]
  },
  {
   "cell_type": "markdown",
   "metadata": {},
   "source": [
    "## Not Replacing"
   ]
  },
  {
   "cell_type": "markdown",
   "metadata": {},
   "source": [
    "* fits_example - used to provide more documentation for stwfits and strfits\n",
    "* fitscopy - used to produce a copy of a fits file, producing a copy of a fits file is straightforward in Python and the command line using exsisting libraries\n",
    "* geis - used to provide a description of GEIS file format\n",
    "* gftoxdim - GEIS conversion, no longer in common usage\n",
    "* strfits - converts FITS files to GEIS or STSDAS tables, no longer in common usage\n",
    "* xdimtogf - convert single group GEIS to multigroup GEIS, no longer in common usage"
   ]
  },
  {
   "cell_type": "markdown",
   "metadata": {
    "collapsed": true
   },
   "source": [
    "For questions or comments please see [our github page](https://github.com/spacetelescope/stak).  We encourage and appreciate user feedback."
   ]
  }
 ],
 "metadata": {
  "kernelspec": {
   "display_name": "Python 2",
   "language": "python",
   "name": "python2"
  },
  "language_info": {
   "codemirror_mode": {
    "name": "ipython",
    "version": 2
   },
   "file_extension": ".py",
   "mimetype": "text/x-python",
   "name": "python",
   "nbconvert_exporter": "python",
   "pygments_lexer": "ipython2",
   "version": "2.7.12"
  }
 },
 "nbformat": 4,
 "nbformat_minor": 0
}
