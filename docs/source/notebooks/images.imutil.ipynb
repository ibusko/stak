{
 "cells": [
  {
   "cell_type": "markdown",
   "metadata": {},
   "source": [
    "# images.imutil"
   ]
  },
  {
   "cell_type": "markdown",
   "metadata": {},
   "source": [
    "The images.imutil package provides general fits image tools such as header editing and image arithimetic."
   ]
  },
  {
   "cell_type": "markdown",
   "metadata": {},
   "source": [
    "<a id='notes'></a>\n",
    "\n",
    "## Notes"
   ]
  },
  {
   "cell_type": "markdown",
   "metadata": {},
   "source": [
    "Contents:\n",
    "\n",
    "* [chpixtype](#chpixtype)\n",
    "* [hedit](#hedit)\n",
    "* [hselect](#hselect)\n",
    "* [imarith/imdivide](#imarith)\n",
    "* [imcopy](#imcopy)\n",
    "* [imfunction/imexpr](#imfunction)\n",
    "* [imheader](#imheader)\n",
    "* [imhistogram](#imhistogram)\n",
    "* [imreplace](#imreplace)\n",
    "* [imslice](#imslice)\n",
    "* [imstack](#imstack)\n",
    "* [imstatistics](#imstatistics)\n",
    "* [imsum](#imsum)\n",
    "* [listpixels](#listpixels)"
   ]
  },
  {
   "cell_type": "markdown",
   "metadata": {},
   "source": [
    "<br>"
   ]
  },
  {
   "cell_type": "markdown",
   "metadata": {},
   "source": [
    "<a id='chpixtype'></a>\n",
    "\n",
    "## chpixtype"
   ]
  },
  {
   "cell_type": "markdown",
   "metadata": {},
   "source": [
    "** Please review the [Notes](#notes) section above before running any examples in this notebook **\n",
    "\n",
    "Chpixtype is a task that allows you to change the pixel type of a fits image.  There is built in functionality in ``astropy.io.fits`` to preform this task with the ``scale`` method.  Below you will find a table that translates the chpixtype newpixtype options into their equivalent ``numpy``/``astropy`` type (http://docs.scipy.org/doc/numpy/user/basics.types.html).\n",
    "\n",
    "**Type Conversions**\n",
    "\n",
    "| Chpixtype  | Numpy/Astropy Type|\n",
    "|:----------:|:-----------------:|\n",
    "| ``ushort`` | ``uint16``        |\n",
    "| ``short``  | ``int16``         |\n",
    "| ``int``    | ``int32``         |\n",
    "| ``long``   | ``int64``         |\n",
    "| ``real``   | ``float32``       |\n",
    "| ``double`` | ``float64``       |\n"
   ]
  },
  {
   "cell_type": "code",
   "execution_count": 1,
   "metadata": {
    "collapsed": true
   },
   "outputs": [],
   "source": [
    "# Astronomy Specific Imports\n",
    "from astropy.io import fits"
   ]
  },
  {
   "cell_type": "code",
   "execution_count": null,
   "metadata": {
    "collapsed": true
   },
   "outputs": [],
   "source": [
    "# Standard Imports\n",
    "import numpy as np\n",
    "\n",
    "# Astronomy Specific Imports\n",
    "from astropy.io import fits"
   ]
  },
  {
   "cell_type": "code",
   "execution_count": 17,
   "metadata": {
    "collapsed": false
   },
   "outputs": [],
   "source": [
    "# Change this value to your desired data file, here were creating a filename\n",
    "# for our new changed data\n",
    "orig_data = '/eng/ssb/iraf_transition/test_data/iczgs3ygq_flt.fits'\n",
    "new_data = '/eng/ssb/iraf_transition/test_data/iczgs3ygq_newdtype_flt.fits'\n",
    "\n",
    "# Read in your fits file\n",
    "hdu = fits.open(orig_data)\n",
    "\n",
    "# Edit the datatype\n",
    "hdu[1].scale(type='int32')\n",
    "\n",
    "# Save changed hdu object to new file\n",
    "# The clobber argument tells the writeto method to overwrite if file already exists\n",
    "hdu.writeto(new_data, clobber=True)\n",
    "hdu.close()"
   ]
  },
  {
   "cell_type": "markdown",
   "metadata": {},
   "source": [
    "<br>"
   ]
  },
  {
   "cell_type": "markdown",
   "metadata": {},
   "source": [
    "<a id='hedit'></a>\n",
    "\n",
    "## hedit"
   ]
  },
  {
   "cell_type": "markdown",
   "metadata": {},
   "source": [
    "** Please review the [Notes](#notes) section above before running any examples in this notebook **\n",
    "\n",
    "The hedit task allows users to edit an image header.  This functioanlity is covered in ``astropy.io.fits``.  Take note that to make changes to a fits file, you must use the ``mode='update'`` keyword in the ``fits.open`` call.  Below you'll find examples of editing a keyword if it does/doesn't exist, and how to delete keywords from the header."
   ]
  },
  {
   "cell_type": "code",
   "execution_count": 2,
   "metadata": {
    "collapsed": true
   },
   "outputs": [],
   "source": [
    "# Astronomy Specific Imports\n",
    "from astropy.io import fits"
   ]
  },
  {
   "cell_type": "code",
   "execution_count": 15,
   "metadata": {
    "collapsed": false
   },
   "outputs": [],
   "source": [
    "# Change this value to your desired data file\n",
    "test_data = '/eng/ssb/iraf_transition/test_data/iczgs3ygq_flt.fits'\n",
    "\n",
    "# Open fits file, include the mode='update' keyword\n",
    "hdu = fits.open(test_data, mode='update')\n",
    "\n",
    "# Simple header change, will add keyword if it doesn't not exist\n",
    "hdu[0].header['MYKEY1'] = 'Editing this keyword'\n",
    "\n",
    "# Only add keyword if it does not already exist:\n",
    "if 'MYKEY2' not in hdu[0].header:\n",
    "    hdu[0].header['MYKEY2'] = 'Also editing this'\n",
    "\n",
    "# To delete keywords, first check if they exist:\n",
    "if 'MYKEY2' in hdu[0].header:\n",
    "    del hdu[0].header['MYKEY2']\n",
    "    \n",
    "# Close fits file, this will save your changes\n",
    "hdu.close()"
   ]
  },
  {
   "cell_type": "markdown",
   "metadata": {},
   "source": [
    "<br>"
   ]
  },
  {
   "cell_type": "markdown",
   "metadata": {},
   "source": [
    "<a id='hselect'></a>\n",
    "\n",
    "## hselect"
   ]
  },
  {
   "cell_type": "markdown",
   "metadata": {},
   "source": [
    "** Please review the [Notes](#notes) section above before running any examples in this notebook **\n",
    "\n",
    "hselect is used to pull out specific header keywords.  You can provide any filename string as you would in IRAF and it will be exapanded (wildcards are accepted).  You can also use specific keyword values to filter files.  We will be using the ``stak`` package ``Hselect`` class.  The output table is an ``astropy.table`` object and stored in the ``table`` attribute."
   ]
  },
  {
   "cell_type": "code",
   "execution_count": 1,
   "metadata": {
    "collapsed": false
   },
   "outputs": [],
   "source": [
    "# Astronomy Specific Imports\n",
    "from stak import Hselect"
   ]
  },
  {
   "cell_type": "code",
   "execution_count": 19,
   "metadata": {
    "collapsed": false
   },
   "outputs": [
    {
     "data": {
      "text/html": [
       "&lt;Table masked=True length=8&gt;\n",
       "<table id=\"table4497701264-588354\" class=\"table-striped table-bordered table-condensed\">\n",
       "<thead><tr><th>idx</th><th>Filename</th><th>ExtNumber</th><th>BUNIT</th><th>TIME-OBS</th></tr></thead>\n",
       "<tr><td>0</td><td>/eng/ssb/iraf_transition/test_data/jczgx1ppq_flc.fits</td><td>0</td><td>--</td><td>01:04:51</td></tr>\n",
       "<tr><td>1</td><td>/eng/ssb/iraf_transition/test_data/jczgx1ppq_flc.fits</td><td>1</td><td>ELECTRONS</td><td>--</td></tr>\n",
       "<tr><td>2</td><td>/eng/ssb/iraf_transition/test_data/jczgx1ppq_flc.fits</td><td>2</td><td>ELECTRONS</td><td>--</td></tr>\n",
       "<tr><td>3</td><td>/eng/ssb/iraf_transition/test_data/jczgx1ppq_flc.fits</td><td>3</td><td>UNITLESS</td><td>--</td></tr>\n",
       "<tr><td>4</td><td>/eng/ssb/iraf_transition/test_data/jczgx1q1q_flc.fits</td><td>2</td><td>ELECTRONS</td><td>--</td></tr>\n",
       "<tr><td>5</td><td>/eng/ssb/iraf_transition/test_data/jczgx1q1q_flc.fits</td><td>3</td><td>UNITLESS</td><td>--</td></tr>\n",
       "<tr><td>6</td><td>/eng/ssb/iraf_transition/test_data/jczgx1q1q_flc.fits</td><td>0</td><td>--</td><td>02:16:10</td></tr>\n",
       "<tr><td>7</td><td>/eng/ssb/iraf_transition/test_data/jczgx1q1q_flc.fits</td><td>1</td><td>ELECTRONS</td><td>--</td></tr>\n",
       "</table><style>table.dataTable {clear: both; width: auto !important; margin: 0 !important;}\n",
       ".dataTables_info, .dataTables_length, .dataTables_filter, .dataTables_paginate{\n",
       "display: inline-block; margin-right: 1em; }\n",
       ".paginate_button { margin-right: 5px; }\n",
       "</style>\n",
       "<script>\n",
       "require.config({paths: {\n",
       "    datatables: 'https://cdn.datatables.net/1.10.9/js/jquery.dataTables.min'\n",
       "}});\n",
       "require([\"datatables\"], function(){\n",
       "    console.log(\"$('#table4497701264-588354').dataTable()\");\n",
       "    $('#table4497701264-588354').dataTable({\n",
       "        \"order\": [],\n",
       "        \"iDisplayLength\": 50,\n",
       "        \"aLengthMenu\": [[10, 25, 50, 100, 500, 1000, -1], [10, 25, 50, 100, 500, 1000, 'All']],\n",
       "        \"pagingType\": \"full_numbers\"\n",
       "    });\n",
       "});\n",
       "</script>\n"
      ],
      "text/plain": [
       "<IPython.core.display.HTML object>"
      ]
     },
     "execution_count": 19,
     "metadata": {},
     "output_type": "execute_result"
    }
   ],
   "source": [
    "# Create Hselect object\n",
    "myList = Hselect(\"/eng/ssb/iraf_transition/test_data/jcz*\", \"BUNIT,TIME-OBS\", extension=\"0,1,2,3\")\n",
    "# Display output astropy table object in nice notebook formatting\n",
    "myList.table.show_in_notebook()"
   ]
  },
  {
   "cell_type": "code",
   "execution_count": 20,
   "metadata": {
    "collapsed": false
   },
   "outputs": [
    {
     "name": "stdout",
     "output_type": "stream",
     "text": [
      "                       Filename                       ExtNumber   BUNIT  \n",
      "----------------------------------------------------- --------- ---------\n",
      "/eng/ssb/iraf_transition/test_data/jczgx1q1q_flc.fits         2 ELECTRONS\n",
      "/eng/ssb/iraf_transition/test_data/jczgx1ppq_flc.fits         1 ELECTRONS\n",
      "/eng/ssb/iraf_transition/test_data/jczgx1ppq_flc.fits         2 ELECTRONS\n",
      "/eng/ssb/iraf_transition/test_data/jczgx1q1q_flc.fits         1 ELECTRONS\n"
     ]
    }
   ],
   "source": [
    "# Create Hselect object using expression parsing\n",
    "myList2 = Hselect(\"/eng/ssb/iraf_transition/test_data/jcz*\", \"BUNIT\", extension=\"0,1,2,3\",\n",
    "                 expr=\"BUNIT='ELECTRONS'\")\n",
    "# Display output astropy table object with a standard print\n",
    "print(myList2.table)"
   ]
  },
  {
   "cell_type": "markdown",
   "metadata": {},
   "source": [
    "<br>"
   ]
  },
  {
   "cell_type": "markdown",
   "metadata": {},
   "source": [
    "<a id='imarith'></a>\n",
    "\n",
    "## imarith - imdivide"
   ]
  },
  {
   "cell_type": "markdown",
   "metadata": {},
   "source": [
    "** Please review the [Notes](#notes) section above before running any examples in this notebook **\n",
    "\n",
    "Imarith and imdivide both provide functionality to apply basic operators to whole image arrays.  This task can be achieved with basic ``astropy.io.fits`` functionality along with ``numpy`` array functionality.\n",
    "\n",
    "The basic operands (``+``,``-``,``/``,``*``) can all be used with an assignment operator in python (``+=``,``-=``,``/=``,``*=``).  See http://www.tutorialspoint.com/python/python_basic_operators.htm for more details"
   ]
  },
  {
   "cell_type": "code",
   "execution_count": 3,
   "metadata": {
    "collapsed": true
   },
   "outputs": [],
   "source": [
    "# Astronomy Specific Imports\n",
    "from astropy.io import fits"
   ]
  },
  {
   "cell_type": "code",
   "execution_count": 62,
   "metadata": {
    "collapsed": false
   },
   "outputs": [],
   "source": [
    "# Basic operands (+,-,/,*)\n",
    "# Change these values to your desired data files\n",
    "test_data1 = '/eng/ssb/iraf_transition/test_data/iczgs3ygq_flt.fits'\n",
    "test_data2 = '/eng/ssb/iraf_transition/test_data/iczgs3y5q_flt.fits'\n",
    "output_data = '/eng/ssb/iraf_transition/test_data/imarith_out.fits'\n",
    "\n",
    "# Open fits file\n",
    "hdu1 = fits.open(test_data1)\n",
    "hdu2 = fits.open(test_data2)\n",
    "\n",
    "# Here we add hdu2-ext1 to hdu1-ext1 by using the shortcute += operator\n",
    "hdu1[1].data += hdu2[1].data\n",
    "\n",
    "# If you are dividing and need to avoid zeros in the image use indexing\n",
    "indx_zeros = [hdu2[4].data == 0]\n",
    "indx_nonzeros = [hdu2[4].data != 0]\n",
    "# Set this value as you would the divzero parameter in imarith\n",
    "set_zeros = 999.9\n",
    "hdu1[4].data[indx_nonzeros] /= hdu2[4].data[indx_nonzeros]\n",
    "hdu1[4].data[indx_zeros] = 999.9\n",
    "\n",
    "# Save your new file\n",
    "# The clobber argument tells the writeto method to overwrite if file already exists\n",
    "hdu1.writeto(output_data, clobber=True)\n",
    "\n",
    "# Close hdu files\n",
    "hdu1.close()\n",
    "hdu2.close()"
   ]
  },
  {
   "cell_type": "markdown",
   "metadata": {},
   "source": [
    "<br>"
   ]
  },
  {
   "cell_type": "markdown",
   "metadata": {},
   "source": [
    "<a id='imcopy'></a>\n",
    "\n",
    "## imcopy"
   ]
  },
  {
   "cell_type": "markdown",
   "metadata": {},
   "source": [
    "** Please review the [Notes](#notes) section above before running any examples in this notebook **\n",
    "\n",
    "Imcopy allows users to copy a fits image to a new file. We can accomplish this using ``astropy.io.fits`` by saving our fits file to a new filename."
   ]
  },
  {
   "cell_type": "code",
   "execution_count": 4,
   "metadata": {
    "collapsed": true
   },
   "outputs": [],
   "source": [
    "# Astronomy Specific Imports\n",
    "from astropy.io import fits"
   ]
  },
  {
   "cell_type": "code",
   "execution_count": 11,
   "metadata": {
    "collapsed": false
   },
   "outputs": [],
   "source": [
    "# Change these values to your desired filenames\n",
    "test_data = '/eng/ssb/iraf_transition/test_data/iczgs3ygq_flt.fits'\n",
    "output_data = '/eng/ssb/iraf_transition/test_data/imcopy_out.fits'\n",
    "\n",
    "hdu = fits.open(test_data)\n",
    "# The clobber argument tells the writeto method to overwrite if file already exists\n",
    "hdu.writeto(output_data, clobber=True)\n",
    "hdu.close()"
   ]
  },
  {
   "cell_type": "markdown",
   "metadata": {},
   "source": [
    "<br>"
   ]
  },
  {
   "cell_type": "markdown",
   "metadata": {},
   "source": [
    "<a id='imfunction'></a>\n",
    "\n",
    "## imfunction - imexpr"
   ]
  },
  {
   "cell_type": "markdown",
   "metadata": {},
   "source": [
    "** Please review the [Notes](#notes) section above before running any examples in this notebook **\n",
    "\n",
    "Imfunction will apply a function to the image pixel values in an image array.  Imexpr gives you similiar functionality with the added capability to combine different images using a user created expression.  We can accomplish this using the built in funcitonality of the ``numpy`` library (http://docs.scipy.org/doc/numpy/reference/routines.math.html)\n",
    "\n",
    "If there is a particular function you would like to apply to your image array that you cannot find in the ``numpy`` library you can use the ``np.vectorize`` function, which can make any python function apply to each element of your array.  But keep in mind that ``np.vectorize`` is esentially looping over the array, and may not be the most efficient method (http://docs.scipy.org/doc/numpy/reference/generated/numpy.vectorize.html)."
   ]
  },
  {
   "cell_type": "markdown",
   "metadata": {},
   "source": [
    "Example using exsisting numpy function:"
   ]
  },
  {
   "cell_type": "code",
   "execution_count": 1,
   "metadata": {
    "collapsed": true
   },
   "outputs": [],
   "source": [
    "# Standard Imports\n",
    "import numpy as np\n",
    "\n",
    "# Astronomy Specific Imports\n",
    "from astropy.io import fits"
   ]
  },
  {
   "cell_type": "code",
   "execution_count": 2,
   "metadata": {
    "collapsed": false
   },
   "outputs": [],
   "source": [
    "# Change these values to your desired data files\n",
    "test_data = '/eng/ssb/iraf_transition/test_data/iczgs3ygq_flt.fits'\n",
    "output_data = '/eng/ssb/iraf_transition/test_data/imfunction_out.fits'\n",
    "\n",
    "# Here we use the cosine function as an example\n",
    "hdu = fits.open(test_data)\n",
    "sci = hdu[1].data\n",
    "\n",
    "# When you call your new function, make sure to reassign the array to\n",
    "# the new values if the original function is not changing values in place\n",
    "hdu[1].data = np.cos(hdu[1].data)\n",
    "\n",
    "# Now save out to a new file, and close the original file, changes will\n",
    "# not be applied to the oiginal fits file.\n",
    "hdu.writeto(output_data, clobber=True)\n",
    "hdu.close()"
   ]
  },
  {
   "cell_type": "markdown",
   "metadata": {},
   "source": [
    "Example using user defined function and ``np.vectorize``:"
   ]
  },
  {
   "cell_type": "code",
   "execution_count": 4,
   "metadata": {
    "collapsed": true
   },
   "outputs": [],
   "source": [
    "# Change these values to your desired data files\n",
    "test_data = '/eng/ssb/iraf_transition/test_data/iczgs3ygq_flt.fits'\n",
    "output_data = '/eng/ssb/iraf_transition/test_data/imfunction2_out.fits'\n",
    "\n",
    "# Here we use the following custom function as an example\n",
    "def my_func(x):\n",
    "    return (x**2)+(x**3)\n",
    "\n",
    "# Now we open our file, and vectorize our function\n",
    "hdu = fits.open(test_data)\n",
    "sci = hdu[1].data\n",
    "vcos = np.vectorize(my_func)\n",
    "\n",
    "# When you call your new function, make sure to reassign the array to\n",
    "# the new values if the original function is not changing values in place\n",
    "hdu[1].data = vcos(hdu[1].data)\n",
    "\n",
    "# Now save out to a new file, and close the original file, changes will\n",
    "# not be applied to the oiginal fits file.\n",
    "hdu.writeto(output_data)\n",
    "hdu.close()"
   ]
  },
  {
   "cell_type": "markdown",
   "metadata": {},
   "source": [
    "<br>"
   ]
  },
  {
   "cell_type": "markdown",
   "metadata": {},
   "source": [
    "<a id='imheader'></a>\n",
    "\n",
    "## imheader"
   ]
  },
  {
   "cell_type": "markdown",
   "metadata": {},
   "source": [
    "** Please review the [Notes](#notes) section above before running any examples in this notebook **\n",
    "\n",
    "The imheader task allows the user to list header parameters for a list of images.  Here we can use the ``astropy`` convenience function, ``fits.getheader()``"
   ]
  },
  {
   "cell_type": "code",
   "execution_count": 12,
   "metadata": {
    "collapsed": true
   },
   "outputs": [],
   "source": [
    "# Standard Imports\n",
    "import numpy as np\n",
    "import glob\n",
    "\n",
    "# Astronomy Specific Imports\n",
    "from astropy.io import fits"
   ]
  },
  {
   "cell_type": "code",
   "execution_count": 13,
   "metadata": {
    "collapsed": false
   },
   "outputs": [
    {
     "name": "stdout",
     "output_type": "stream",
     "text": [
      "XTENSION= 'IMAGE   '           / IMAGE extension                                \n",
      "BITPIX  =                  -32                                                  \n",
      "NAXIS   =                    2                                                  \n",
      "NAXIS1  =                 1014                                                  \n",
      "NAXIS2  =                 1014                                                  \n",
      "PCOUNT  =                    0 / required keyword; must = 0                     \n",
      "GCOUNT  =                    1 / required keyword; must = 1                     \n",
      "ORIGIN  = 'HSTIO/CFITSIO March 2010'                                            \n",
      "DATE    = '2016-06-02' / date this file was written (yyyy-mm-dd)                \n",
      "INHERIT =                    T / inherit the primary header                     \n",
      "EXTNAME = 'SCI     '           / extension name                                 \n",
      "EXTVER  =                    1 / extension version number                       \n",
      "ROOTNAME= 'iczgs3ygq                         ' / rootname of the observation set\n",
      "EXPNAME = 'iczgs3ygq                ' / exposure identifier                     \n",
      "BUNIT   = 'ELECTRONS/S'        / brightness units                               \n",
      "                                                                                \n",
      "              / World Coordinate System and Related Parameters                  \n",
      "                                                                                \n",
      "WCSAXES =                    2 / number of World Coordinate System axes         \n",
      "CRPIX1  =                507.0 / x-coordinate of reference pixel                \n",
      "CRPIX2  =                507.0 / y-coordinate of reference pixel                \n",
      "CRVAL1  =       36.85374208875 / first axis value at reference pixel            \n",
      "CRVAL2  =       48.92264646942 / second axis value at reference pixel           \n",
      "CTYPE1  = 'RA---TAN-SIP'       / the coordinate type for the first axis         \n",
      "CTYPE2  = 'DEC--TAN-SIP'       / the coordinate type for the second axis        \n",
      "CD1_1   = -3.1758778512629E-05 / partial of first axis coordinate w.r.t. x      \n",
      "CD1_2   = -1.8099259044494E-05 / partial of first axis coordinate w.r.t. y      \n",
      "CD2_1   = -2.0157648752092E-05 / partial of second axis coordinate w.r.t. x     \n",
      "CD2_2   = 2.83052387051731E-05 / partial of second axis coordinate w.r.t. y     \n",
      "LTV1    =        0.0000000E+00 / offset in X to subsection start                \n",
      "LTV2    =        0.0000000E+00 / offset in Y to subsection start                \n",
      "LTM1_1  =                  1.0 / reciprocal of sampling rate in X               \n",
      "LTM2_2  =                  1.0 / reciprocal of sampling rate in Y               \n",
      "PA_APER =              -32.556 / Position Angle of reference aperture center (de\n",
      "VAFACTOR=   9.999085821139E-01 / velocity aberration plate scale factor         \n",
      "ORIENTAT=              -32.556 / position angle of image y axis (deg. e of n)   \n",
      "RA_APER =   3.685374208875E+01 / RA of aperture reference position              \n",
      "DEC_APER=   4.892264646942E+01 / Declination of aperture reference position     \n",
      "                                                                                \n",
      "              / REPEATED EXPOSURES INFORMATION                                  \n",
      "                                                                                \n",
      "NCOMBINE=                    1 / number of image sets combined during CR rejecti\n",
      "                                                                                \n",
      "              / READOUT DEFINITION PARAMETERS                                   \n",
      "                                                                                \n",
      "CENTERA1=                  513 / subarray axis1 center pt in unbinned dect. pix \n",
      "CENTERA2=                  513 / subarray axis2 center pt in unbinned dect. pix \n",
      "SIZAXIS1=                 1024 / subarray axis1 size in unbinned detector pixels\n",
      "SIZAXIS2=                 1024 / subarray axis2 size in unbinned detector pixels\n",
      "BINAXIS1=                    1 / axis1 data bin size in unbinned detector pixels\n",
      "BINAXIS2=                    1 / axis2 data bin size in unbinned detector pixels\n",
      "                                                                                \n",
      "              / READOUT PARAMETERS                                              \n",
      "                                                                                \n",
      "SAMPNUM =                   13 / MULTIACCUM sample number                       \n",
      "SAMPTIME=           602.937317 / total integration time (sec)                   \n",
      "DELTATIM=            50.000412 / integration time of this sample (sec)          \n",
      "ROUTTIME=   5.740229030181E+04 / UT time of array readout (MJD)                 \n",
      "TDFTRANS=                    0 / number of TDF transitions during current sample\n",
      "                                                                                \n",
      "              / DATA PACKET INFORMATION                                         \n",
      "                                                                                \n",
      "FILLCNT =                    0 / number of segments containing fill             \n",
      "ERRCNT  =                    0 / number of segments containing errors           \n",
      "PODPSFF =                    F / podps fill present (T/F)                       \n",
      "STDCFFF =                    F / science telemetry fill data present (T=1/F=0)  \n",
      "STDCFFP = '0x5569'             / science telemetry fill pattern (hex)           \n",
      "                                                                                \n",
      "              / IMAGE STATISTICS AND DATA QUALITY FLAGS                         \n",
      "                                                                                \n",
      "NGOODPIX=               990475 / number of good pixels                          \n",
      "SDQFLAGS=                31743 / serious data quality flags                     \n",
      "GOODMIN =       -2.8782272E+00 / minimum value of good pixels                   \n",
      "GOODMAX =        1.1788658E+04 / maximum value of good pixels                   \n",
      "GOODMEAN=        9.9831134E-01 / mean value of good pixels                      \n",
      "SNRMIN  =        1.8871337E-02 / minimum signal to noise of good pixels         \n",
      "SNRMAX  =        6.3982178E+01 / maximum signal to noise of good pixels         \n",
      "SNRMEAN =        5.3425826E-02 / mean value of signal to noise of good pixels   \n",
      "SOFTERRS=                    0 / number of soft error pixels (DQF=1)            \n",
      "MEANDARK=        1.2191877E+01 / average of the dark values subtracted          \n",
      "MEANBLEV=        1.4332316E+04 / average of all bias levels subtracted          \n",
      "RADESYS = 'ICRS    '                                                            \n",
      "OCX10   = 0.000786257500294596                                                  \n",
      "OCX11   =   0.1354287266731262                                                  \n",
      "OCY10   =   0.1209582984447479                                                  \n",
      "OCY11   = -0.00042557646520435                                                  \n",
      "IDCSCALE=   0.1282500028610229                                                  \n",
      "IDCTHETA=                 45.0                                                  \n",
      "IDCXREF =                507.0                                                  \n",
      "IDCYREF =                507.0                                                  \n",
      "IDCV2REF=    1.019000053405762                                                  \n",
      "IDCV3REF=  -0.5070000290870667                                                  \n",
      "WCSNAMEO= 'OPUS    '                                                            \n",
      "WCSAXESO=                    2                                                  \n",
      "CRPIX1O =                507.0                                                  \n",
      "CRPIX2O =                507.0                                                  \n",
      "CDELT1O =                  1.0                                                  \n",
      "CDELT2O =                  1.0                                                  \n",
      "CUNIT1O = 'deg     '                                                            \n",
      "CUNIT2O = 'deg     '                                                            \n",
      "CTYPE1O = 'RA---TAN'                                                            \n",
      "CTYPE2O = 'DEC--TAN'                                                            \n",
      "CRVAL1O =       36.85374208875                                                  \n",
      "CRVAL2O =       48.92264646942                                                  \n",
      "LONPOLEO=                180.0                                                  \n",
      "LATPOLEO=       48.92264646942                                                  \n",
      "RADESYSO= 'ICRS    '                                                            \n",
      "CD1_1O  =         -3.17711E-05                                                  \n",
      "CD1_2O  =         -1.80786E-05                                                  \n",
      "CD2_1O  =         -2.01487E-05                                                  \n",
      "CD2_2O  =          2.83166E-05                                                  \n",
      "IDCTAB  = 'iref$w3m18525i_idc.fits'                                             \n",
      "B_1_3   = 1.69983940010457E-13                                                  \n",
      "B_0_3   = -2.2777970488111E-10                                                  \n",
      "A_2_2   = 1.11275247848408E-13                                                  \n",
      "B_0_4   = 1.03978470894974E-12                                                  \n",
      "A_0_4   = -2.0083179974495E-13                                                  \n",
      "B_3_1   = 3.81044199963010E-13                                                  \n",
      "A_3_0   = -1.9851733613323E-10                                                  \n",
      "B_4_0   = -5.7352409055905E-13                                                  \n",
      "B_0_2   = 2.98815054868485E-05                                                  \n",
      "A_1_3   = 6.08832045645843E-13                                                  \n",
      "A_4_0   = -3.2156784473326E-13                                                  \n",
      "B_ORDER =                    4                                                  \n",
      "A_0_2   = 2.77482030873749E-08                                                  \n",
      "A_2_1   = 1.22255499299390E-10                                                  \n",
      "B_2_0   = 6.92276069494587E-06                                                  \n",
      "A_2_0   = -2.0701735553551E-07                                                  \n",
      "A_3_1   = 4.13947711822547E-13                                                  \n",
      "A_1_2   = 3.11477338242516E-11                                                  \n",
      "A_ORDER =                    4                                                  \n",
      "B_1_2   = 7.47270961118588E-11                                                  \n",
      "B_2_2   = 1.38557115814168E-13                                                  \n",
      "A_0_3   = 4.55691839657869E-11                                                  \n",
      "B_2_1   = -2.3836656728517E-10                                                  \n",
      "B_3_0   = 5.14014553890418E-11                                                  \n",
      "B_1_1   = -2.8538202053351E-07                                                  \n",
      "A_1_1   = 2.44176437155426E-05                                                  \n",
      "WCSNAME = 'IDC_w3m18525i'                                                       \n",
      "MDRIZSKY=   0.8125642368041847 / Sky value computed by AstroDrizzle             \n",
      "XTENSION= 'IMAGE   '           / IMAGE extension                                \n",
      "BITPIX  =                   32                                                  \n",
      "NAXIS   =                    2                                                  \n",
      "NAXIS1  =                 1014                                                  \n",
      "NAXIS2  =                 1014                                                  \n",
      "PCOUNT  =                    0 / required keyword; must = 0                     \n",
      "GCOUNT  =                    1 / required keyword; must = 1                     \n",
      "ORIGIN  = 'HSTIO/CFITSIO March 2010'                                            \n",
      "DATE    = '2016-06-02' / date this file was written (yyyy-mm-dd)                \n",
      "INHERIT =                    T / inherit the primary header                     \n",
      "EXTNAME = 'SCI     '           / extension name                                 \n",
      "EXTVER  =                    1 / extension version number                       \n",
      "ROOTNAME= 'iczgs3ygq                         ' / rootname of the observation set\n",
      "EXPNAME = 'iczgs3ygq                ' / exposure identifier                     \n",
      "BUNIT   = 'ELECTRONS/S'        / brightness units                               \n",
      "                                                                                \n",
      "              / World Coordinate System and Related Parameters                  \n",
      "                                                                                \n",
      "WCSAXES =                    2 / number of World Coordinate System axes         \n",
      "CRPIX1  =                507.0 / x-coordinate of reference pixel                \n",
      "CRPIX2  =                507.0 / y-coordinate of reference pixel                \n",
      "CRVAL1  =       36.85374208875 / first axis value at reference pixel            \n",
      "CRVAL2  =       48.92264646942 / second axis value at reference pixel           \n",
      "CTYPE1  = 'RA---TAN-SIP'       / the coordinate type for the first axis         \n",
      "CTYPE2  = 'DEC--TAN-SIP'       / the coordinate type for the second axis        \n",
      "CD1_1   = -3.1758778512629E-05 / partial of first axis coordinate w.r.t. x      \n",
      "CD1_2   = -1.8099259044494E-05 / partial of first axis coordinate w.r.t. y      \n",
      "CD2_1   = -2.0157648752092E-05 / partial of second axis coordinate w.r.t. x     \n",
      "CD2_2   = 2.83052387051731E-05 / partial of second axis coordinate w.r.t. y     \n",
      "LTV1    =        0.0000000E+00 / offset in X to subsection start                \n",
      "LTV2    =        0.0000000E+00 / offset in Y to subsection start                \n",
      "LTM1_1  =                  1.0 / reciprocal of sampling rate in X               \n",
      "LTM2_2  =                  1.0 / reciprocal of sampling rate in Y               \n",
      "PA_APER =              -32.556 / Position Angle of reference aperture center (de\n",
      "VAFACTOR=   9.999085821139E-01 / velocity aberration plate scale factor         \n",
      "ORIENTAT=              -32.556 / position angle of image y axis (deg. e of n)   \n",
      "RA_APER =   3.685374208875E+01 / RA of aperture reference position              \n",
      "DEC_APER=   4.892264646942E+01 / Declination of aperture reference position     \n",
      "                                                                                \n",
      "              / REPEATED EXPOSURES INFORMATION                                  \n",
      "                                                                                \n",
      "NCOMBINE=                    1 / number of image sets combined during CR rejecti\n",
      "                                                                                \n",
      "              / READOUT DEFINITION PARAMETERS                                   \n",
      "                                                                                \n",
      "CENTERA1=                  513 / subarray axis1 center pt in unbinned dect. pix \n",
      "CENTERA2=                  513 / subarray axis2 center pt in unbinned dect. pix \n",
      "SIZAXIS1=                 1024 / subarray axis1 size in unbinned detector pixels\n",
      "SIZAXIS2=                 1024 / subarray axis2 size in unbinned detector pixels\n",
      "BINAXIS1=                    1 / axis1 data bin size in unbinned detector pixels\n",
      "BINAXIS2=                    1 / axis2 data bin size in unbinned detector pixels\n",
      "                                                                                \n",
      "              / READOUT PARAMETERS                                              \n",
      "                                                                                \n",
      "SAMPNUM =                   13 / MULTIACCUM sample number                       \n",
      "SAMPTIME=           602.937317 / total integration time (sec)                   \n",
      "DELTATIM=            50.000412 / integration time of this sample (sec)          \n",
      "ROUTTIME=   5.740229030181E+04 / UT time of array readout (MJD)                 \n",
      "TDFTRANS=                    0 / number of TDF transitions during current sample\n",
      "                                                                                \n",
      "              / DATA PACKET INFORMATION                                         \n",
      "                                                                                \n",
      "FILLCNT =                    0 / number of segments containing fill             \n",
      "ERRCNT  =                    0 / number of segments containing errors           \n",
      "PODPSFF =                    F / podps fill present (T/F)                       \n",
      "STDCFFF =                    F / science telemetry fill data present (T=1/F=0)  \n",
      "STDCFFP = '0x5569'             / science telemetry fill pattern (hex)           \n",
      "                                                                                \n",
      "              / IMAGE STATISTICS AND DATA QUALITY FLAGS                         \n",
      "                                                                                \n",
      "NGOODPIX=               990475 / number of good pixels                          \n",
      "SDQFLAGS=                31743 / serious data quality flags                     \n",
      "GOODMIN =       -2.8782272E+00 / minimum value of good pixels                   \n",
      "GOODMAX =        1.1788658E+04 / maximum value of good pixels                   \n",
      "GOODMEAN=        9.9831134E-01 / mean value of good pixels                      \n",
      "SNRMIN  =        1.8871337E-02 / minimum signal to noise of good pixels         \n",
      "SNRMAX  =        6.3982178E+01 / maximum signal to noise of good pixels         \n",
      "SNRMEAN =        5.3425826E-02 / mean value of signal to noise of good pixels   \n",
      "SOFTERRS=                    0 / number of soft error pixels (DQF=1)            \n",
      "MEANDARK=        1.2191877E+01 / average of the dark values subtracted          \n",
      "MEANBLEV=        1.4332316E+04 / average of all bias levels subtracted          \n",
      "RADESYS = 'ICRS    '                                                            \n",
      "OCX10   = 0.000786257500294596                                                  \n",
      "OCX11   =   0.1354287266731262                                                  \n",
      "OCY10   =   0.1209582984447479                                                  \n",
      "OCY11   = -0.00042557646520435                                                  \n",
      "IDCSCALE=   0.1282500028610229                                                  \n",
      "IDCTHETA=                 45.0                                                  \n",
      "IDCXREF =                507.0                                                  \n",
      "IDCYREF =                507.0                                                  \n",
      "IDCV2REF=    1.019000053405762                                                  \n",
      "IDCV3REF=  -0.5070000290870667                                                  \n",
      "WCSNAMEO= 'OPUS    '                                                            \n",
      "WCSAXESO=                    2                                                  \n",
      "CRPIX1O =                507.0                                                  \n",
      "CRPIX2O =                507.0                                                  \n",
      "CDELT1O =                  1.0                                                  \n",
      "CDELT2O =                  1.0                                                  \n",
      "CUNIT1O = 'deg     '                                                            \n",
      "CUNIT2O = 'deg     '                                                            \n",
      "CTYPE1O = 'RA---TAN'                                                            \n",
      "CTYPE2O = 'DEC--TAN'                                                            \n",
      "CRVAL1O =       36.85374208875                                                  \n",
      "CRVAL2O =       48.92264646942                                                  \n",
      "LONPOLEO=                180.0                                                  \n",
      "LATPOLEO=       48.92264646942                                                  \n",
      "RADESYSO= 'ICRS    '                                                            \n",
      "CD1_1O  =         -3.17711E-05                                                  \n",
      "CD1_2O  =         -1.80786E-05                                                  \n",
      "CD2_1O  =         -2.01487E-05                                                  \n",
      "CD2_2O  =          2.83166E-05                                                  \n",
      "IDCTAB  = 'iref$w3m18525i_idc.fits'                                             \n",
      "B_1_3   = 1.69983940010457E-13                                                  \n",
      "B_0_3   = -2.2777970488111E-10                                                  \n",
      "A_2_2   = 1.11275247848408E-13                                                  \n",
      "B_0_4   = 1.03978470894974E-12                                                  \n",
      "A_0_4   = -2.0083179974495E-13                                                  \n",
      "B_3_1   = 3.81044199963010E-13                                                  \n",
      "A_3_0   = -1.9851733613323E-10                                                  \n",
      "B_4_0   = -5.7352409055905E-13                                                  \n",
      "B_0_2   = 2.98815054868485E-05                                                  \n",
      "A_1_3   = 6.08832045645843E-13                                                  \n",
      "A_4_0   = -3.2156784473326E-13                                                  \n",
      "B_ORDER =                    4                                                  \n",
      "A_0_2   = 2.77482030873749E-08                                                  \n",
      "A_2_1   = 1.22255499299390E-10                                                  \n",
      "B_2_0   = 6.92276069494587E-06                                                  \n",
      "A_2_0   = -2.0701735553551E-07                                                  \n",
      "A_3_1   = 4.13947711822547E-13                                                  \n",
      "A_1_2   = 3.11477338242516E-11                                                  \n",
      "A_ORDER =                    4                                                  \n",
      "B_1_2   = 7.47270961118588E-11                                                  \n",
      "B_2_2   = 1.38557115814168E-13                                                  \n",
      "A_0_3   = 4.55691839657869E-11                                                  \n",
      "B_2_1   = -2.3836656728517E-10                                                  \n",
      "B_3_0   = 5.14014553890418E-11                                                  \n",
      "B_1_1   = -2.8538202053351E-07                                                  \n",
      "A_1_1   = 2.44176437155426E-05                                                  \n",
      "WCSNAME = 'IDC_w3m18525i'                                                       \n",
      "MDRIZSKY=   0.8125642368041847 / Sky value computed by AstroDrizzle             \n",
      "XTENSION= 'IMAGE   '           / IMAGE extension                                \n",
      "BITPIX  =                  -32                                                  \n",
      "NAXIS   =                    2                                                  \n",
      "NAXIS1  =                 1014                                                  \n",
      "NAXIS2  =                 1014                                                  \n",
      "PCOUNT  =                    0 / required keyword; must = 0                     \n",
      "GCOUNT  =                    1 / required keyword; must = 1                     \n",
      "ORIGIN  = 'HSTIO/CFITSIO March 2010'                                            \n",
      "DATE    = '2016-06-02' / date this file was written (yyyy-mm-dd)                \n",
      "INHERIT =                    T / inherit the primary header                     \n",
      "EXTNAME = 'SCI     '           / extension name                                 \n",
      "EXTVER  =                    1 / extension version number                       \n",
      "ROOTNAME= 'iczgs3y5q                         ' / rootname of the observation set\n",
      "EXPNAME = 'iczgs3y5q                ' / exposure identifier                     \n",
      "BUNIT   = 'ELECTRONS/S'        / brightness units                               \n",
      "                                                                                \n",
      "              / World Coordinate System and Related Parameters                  \n",
      "                                                                                \n",
      "WCSAXES =                    2 / number of World Coordinate System axes         \n",
      "CRPIX1  =                507.0 / x-coordinate of reference pixel                \n",
      "CRPIX2  =                507.0 / y-coordinate of reference pixel                \n",
      "CRVAL1  =       36.85747964213 / first axis value at reference pixel            \n",
      "CRVAL2  =       48.92227663477 / second axis value at reference pixel           \n",
      "CTYPE1  = 'RA---TAN-SIP'       / the coordinate type for the first axis         \n",
      "CTYPE2  = 'DEC--TAN-SIP'       / the coordinate type for the second axis        \n",
      "CD1_1   = -3.1760811272930E-05 / partial of first axis coordinate w.r.t. x      \n",
      "CD1_2   = -1.8097365221752E-05 / partial of first axis coordinate w.r.t. y      \n",
      "CD2_1   = -2.0155198493371E-05 / partial of second axis coordinate w.r.t. x     \n",
      "CD2_2   = 2.83091348126201E-05 / partial of second axis coordinate w.r.t. y     \n",
      "LTV1    =        0.0000000E+00 / offset in X to subsection start                \n",
      "LTV2    =        0.0000000E+00 / offset in Y to subsection start                \n",
      "LTM1_1  =                  1.0 / reciprocal of sampling rate in X               \n",
      "LTM2_2  =                  1.0 / reciprocal of sampling rate in Y               \n",
      "PA_APER =             -32.5531 / Position Angle of reference aperture center (de\n",
      "VAFACTOR=   9.999381116940E-01 / velocity aberration plate scale factor         \n",
      "ORIENTAT=             -32.5531 / position angle of image y axis (deg. e of n)   \n",
      "RA_APER =   3.685747964213E+01 / RA of aperture reference position              \n",
      "DEC_APER=   4.892227663477E+01 / Declination of aperture reference position     \n",
      "                                                                                \n",
      "              / REPEATED EXPOSURES INFORMATION                                  \n",
      "                                                                                \n",
      "NCOMBINE=                    1 / number of image sets combined during CR rejecti\n",
      "                                                                                \n",
      "              / READOUT DEFINITION PARAMETERS                                   \n",
      "                                                                                \n",
      "CENTERA1=                  513 / subarray axis1 center pt in unbinned dect. pix \n",
      "CENTERA2=                  513 / subarray axis2 center pt in unbinned dect. pix \n",
      "SIZAXIS1=                 1024 / subarray axis1 size in unbinned detector pixels\n",
      "SIZAXIS2=                 1024 / subarray axis2 size in unbinned detector pixels\n",
      "BINAXIS1=                    1 / axis1 data bin size in unbinned detector pixels\n",
      "BINAXIS2=                    1 / axis2 data bin size in unbinned detector pixels\n",
      "                                                                                \n",
      "              / READOUT PARAMETERS                                              \n",
      "                                                                                \n",
      "SAMPNUM =                   14 / MULTIACCUM sample number                       \n",
      "SAMPTIME=           652.937744 / total integration time (sec)                   \n",
      "DELTATIM=            50.000412 / integration time of this sample (sec)          \n",
      "ROUTTIME=   5.740226431774E+04 / UT time of array readout (MJD)                 \n",
      "TDFTRANS=                    0 / number of TDF transitions during current sample\n",
      "                                                                                \n",
      "              / DATA PACKET INFORMATION                                         \n",
      "                                                                                \n",
      "FILLCNT =                    0 / number of segments containing fill             \n",
      "ERRCNT  =                    0 / number of segments containing errors           \n",
      "PODPSFF =                    F / podps fill present (T/F)                       \n",
      "STDCFFF =                    F / science telemetry fill data present (T=1/F=0)  \n",
      "STDCFFP = '0x5569'             / science telemetry fill pattern (hex)           \n",
      "                                                                                \n",
      "              / IMAGE STATISTICS AND DATA QUALITY FLAGS                         \n",
      "                                                                                \n",
      "NGOODPIX=               990476 / number of good pixels                          \n",
      "SDQFLAGS=                31743 / serious data quality flags                     \n",
      "GOODMIN =       -2.9155195E+00 / minimum value of good pixels                   \n",
      "GOODMAX =        2.6231844E+04 / maximum value of good pixels                   \n",
      "GOODMEAN=        9.3451303E-01 / mean value of good pixels                      \n",
      "SNRMIN  =        1.1295157E-02 / minimum signal to noise of good pixels         \n",
      "SNRMAX  =        9.8745354E+01 / maximum signal to noise of good pixels         \n",
      "SNRMEAN =        4.9034115E-02 / mean value of signal to noise of good pixels   \n",
      "SOFTERRS=                    0 / number of soft error pixels (DQF=1)            \n",
      "MEANDARK=        1.3298962E+01 / average of the dark values subtracted          \n",
      "MEANBLEV=        1.4334856E+04 / average of all bias levels subtracted          \n",
      "RADESYS = 'ICRS    '                                                            \n",
      "OCX10   = 0.000779107213020324                                                  \n",
      "OCX11   =   0.1354261934757233                                                  \n",
      "OCY10   =    0.120962917804718                                                  \n",
      "OCY11   = -0.00042105099419131                                                  \n",
      "IDCSCALE=   0.1282500028610229                                                  \n",
      "IDCTHETA=                 45.0                                                  \n",
      "IDCXREF =                507.0                                                  \n",
      "IDCYREF =                507.0                                                  \n",
      "IDCV2REF=    1.019000053405762                                                  \n",
      "IDCV3REF=  -0.5070000290870667                                                  \n",
      "WCSNAMEO= 'OPUS    '                                                            \n",
      "WCSAXESO=                    2                                                  \n",
      "CRPIX1O =                507.0                                                  \n",
      "CRPIX2O =                507.0                                                  \n",
      "CDELT1O =                  1.0                                                  \n",
      "CDELT2O =                  1.0                                                  \n",
      "CUNIT1O = 'deg     '                                                            \n",
      "CUNIT2O = 'deg     '                                                            \n",
      "CTYPE1O = 'RA---TAN'                                                            \n",
      "CTYPE2O = 'DEC--TAN'                                                            \n",
      "CRVAL1O =       36.85747964213                                                  \n",
      "CRVAL2O =       48.92227663477                                                  \n",
      "LONPOLEO=                180.0                                                  \n",
      "LATPOLEO=       48.92227663477                                                  \n",
      "RADESYSO= 'ICRS    '                                                            \n",
      "CD1_1O  =         -3.17721E-05                                                  \n",
      "CD1_2O  =         -1.80771E-05                                                  \n",
      "CD2_1O  =         -2.01471E-05                                                  \n",
      "CD2_2O  =          2.83175E-05                                                  \n",
      "IDCTAB  = 'iref$w3m18525i_idc.fits'                                             \n",
      "B_1_2   = 2.35150691092754E-11                                                  \n",
      "A_3_0   = -1.8769691205859E-10                                                  \n",
      "B_ORDER =                    4                                                  \n",
      "A_2_1   = 9.33802326056672E-11                                                  \n",
      "A_1_1   = 2.44489619913889E-05                                                  \n",
      "A_2_2   = 5.99856272799014E-15                                                  \n",
      "B_0_3   = -2.0092851573342E-10                                                  \n",
      "B_3_1   = 1.00607112230593E-13                                                  \n",
      "B_3_0   = 3.66824943640799E-11                                                  \n",
      "A_2_0   = -1.8678411786277E-07                                                  \n",
      "B_1_3   = -6.9677270201133E-15                                                  \n",
      "A_0_2   = 4.73630640333079E-08                                                  \n",
      "A_1_3   = 5.55221560333543E-13                                                  \n",
      "B_0_4   = 7.52827599670567E-13                                                  \n",
      "B_2_2   = -1.1683621160870E-13                                                  \n",
      "A_0_4   = -2.0852050771470E-13                                                  \n",
      "B_0_2   = 2.99875048026693E-05                                                  \n",
      "A_4_0   = -3.1314754837293E-13                                                  \n",
      "B_4_0   = -6.4384058620497E-13                                                  \n",
      "A_ORDER =                    4                                                  \n",
      "A_0_3   = 2.65011000430244E-11                                                  \n",
      "B_2_1   = -2.8558390691514E-10                                                  \n",
      "A_1_2   = 5.07616164062598E-11                                                  \n",
      "B_1_1   = -2.0379403931148E-07                                                  \n",
      "A_3_1   = 5.25748787891111E-13                                                  \n",
      "B_2_0   = 6.97816138011029E-06                                                  \n",
      "WCSNAME = 'IDC_w3m18525i'                                                       \n",
      "MDRIZSKY=   0.7757664823972165 / Sky value computed by AstroDrizzle             \n"
     ]
    }
   ],
   "source": [
    "# Change these values to your desired data files, glob will capture all wildcard matches\n",
    "test_data = glob.glob('/eng/ssb/iraf_transition/test_data/iczgs3y*')\n",
    "\n",
    "for filename in test_data:\n",
    "    # Pull the header from extension 1\n",
    "    head = fits.getheader(filename, ext=1)\n",
    "    print repr(head)"
   ]
  },
  {
   "cell_type": "markdown",
   "metadata": {},
   "source": [
    "<br>"
   ]
  },
  {
   "cell_type": "markdown",
   "metadata": {},
   "source": [
    "<a id='imhistogram'></a>\n",
    "\n",
    "## imhistogram"
   ]
  },
  {
   "cell_type": "markdown",
   "metadata": {},
   "source": [
    "** Please review the [Notes](#notes) section above before running any examples in this notebook **\n",
    "\n",
    "Imhistogram will plot a customized histogram of the provided image data. To make a histogram in Python we are going to use matplotlibs ``hist`` function.  See the ``hist`` documentation for options to change the histogram type, scaling, bin sizes, and more (http://matplotlib.org/api/pyplot_api.html)"
   ]
  },
  {
   "cell_type": "code",
   "execution_count": 24,
   "metadata": {
    "collapsed": true
   },
   "outputs": [],
   "source": [
    "# Standard Imports\n",
    "import numpy as np\n",
    "\n",
    "# Astronomy Specific Imports\n",
    "from astropy.io import fits\n",
    "\n",
    "# Plotting Imports/Setup\n",
    "import matplotlib.pyplot as plt\n",
    "%matplotlib inline"
   ]
  },
  {
   "cell_type": "code",
   "execution_count": 25,
   "metadata": {
    "collapsed": false
   },
   "outputs": [
    {
     "data": {
      "image/png": "[encoded data removed]",
      "text/plain": [
       "<matplotlib.figure.Figure at 0x10bdd6d10>"
      ]
     },
     "metadata": {},
     "output_type": "display_data"
    }
   ],
   "source": [
    "# Change these values to your desired data files\n",
    "test_data = '/eng/ssb/iraf_transition/test_data/iczgs3ygq_flt.fits'\n",
    "\n",
    "# Pull out the first science array, we also need to flatten the data before sending it to hist\n",
    "sci1 = fits.getdata(test_data,ext=1)\n",
    "sci1f = sci1.flatten()\n",
    "\n",
    "# Now we can plot our histogram, using some of the optional keywords in hist\n",
    "# The hist function returns the values of the histogram bins (n), the edges\n",
    "# of the bins (obins), and the patches used to create the histogram\n",
    "n, obins, patches = plt.hist(sci1f,bins=100,range=(0,2))"
   ]
  },
  {
   "cell_type": "markdown",
   "metadata": {},
   "source": [
    "<br>"
   ]
  },
  {
   "cell_type": "markdown",
   "metadata": {},
   "source": [
    "<a id='imreplace'></a>\n",
    "\n",
    "## imreplace"
   ]
  },
  {
   "cell_type": "markdown",
   "metadata": {},
   "source": [
    "** Please review the [Notes](#notes) section above before running any examples in this notebook **\n",
    "\n",
    "We can use simple ``numpy`` array manipulation to replicate imreplace.  For details on how to grow the boolean array for replacement see crgrow, or the [``skimage.dilation`` documentation](http://scikit-image.org/docs/0.12.x/api/skimage.morphology.html?highlight=dilation#skimage.morphology.dilation)."
   ]
  },
  {
   "cell_type": "code",
   "execution_count": 26,
   "metadata": {
    "collapsed": true
   },
   "outputs": [],
   "source": [
    "# Standard Imports\n",
    "import numpy as np\n",
    "\n",
    "# Astronomy Specific Imports\n",
    "from astropy.io import fits"
   ]
  },
  {
   "cell_type": "code",
   "execution_count": 71,
   "metadata": {
    "collapsed": false
   },
   "outputs": [
    {
     "name": "stdout",
     "output_type": "stream",
     "text": [
      "(array([ 474,  474,  606,  607,  607,  607,  608,  608,  608,  608,  609,\n",
      "        609,  609,  609,  610,  610,  610,  804,  804,  809,  809,  810,\n",
      "        883,  883, 1002, 1013]), array([455, 456, 285, 284, 285, 286, 284, 285, 286, 287, 284, 285, 286,\n",
      "       287, 284, 285, 286, 349, 350,  53, 575,  53, 161, 162, 104, 460]))\n"
     ]
    }
   ],
   "source": [
    "# Change these values to your desired data files\n",
    "test_data = '/eng/ssb/iraf_transition/test_data/iczgs3ygq_flt.fits'\n",
    "\n",
    "# Pull out the first science array, make boolean mask with your requirements\n",
    "hdu = fits.open(test_data)\n",
    "sci1 = hdu[1].data\n",
    "hdu.close()\n",
    "mask1 = np.logical_and(sci1>0.5, sci1<0.6)\n",
    "\n",
    "# Use mask to replace values\n",
    "sci1[mask1] = 999\n",
    "\n",
    "# We can also use numpy where to pull out index numbers\n",
    "mask2 = np.where(sci1 > 1000)\n",
    "print mask2"
   ]
  },
  {
   "cell_type": "markdown",
   "metadata": {},
   "source": [
    "<br>"
   ]
  },
  {
   "cell_type": "markdown",
   "metadata": {},
   "source": [
    "<a id='imslice'></a>\n",
    "\n",
    "## imslice"
   ]
  },
  {
   "cell_type": "markdown",
   "metadata": {},
   "source": [
    "** Please review the [Notes](#notes) section above before running any examples in this notebook **\n",
    "\n",
    "Imslice can take a 3-D datacube fits image and return multiple 2D images sliced through the chosen dimension.  Keep in mind for the python equivalent workflow that the header file from the original input image will be used for all output images, including WCS information.  We will be using [``numpy.split``](https://docs.scipy.org/doc/numpy/reference/generated/numpy.split.html#numpy.split)."
   ]
  },
  {
   "cell_type": "code",
   "execution_count": 40,
   "metadata": {
    "collapsed": true
   },
   "outputs": [],
   "source": [
    "# Astronomy Specific Imports\n",
    "from astropy.io import fits"
   ]
  },
  {
   "cell_type": "code",
   "execution_count": 51,
   "metadata": {
    "collapsed": false
   },
   "outputs": [
    {
     "name": "stdout",
     "output_type": "stream",
     "text": [
      "final shape of a slice is:\n",
      "(1, 2048, 4096)\n"
     ]
    }
   ],
   "source": [
    "# Pull image data array and image header\n",
    "orig_hdu = fits.open('/eng/ssb/iraf_transition/test_data/imstack_out.fits')\n",
    "header1 = orig_hdu[0].header\n",
    "image1 = orig_hdu[0].data\n",
    "orig_hdu.close()\n",
    "\n",
    "# Slice images easily by using numpy.split, which returns a list of the output arrays\n",
    "arr_list = np.split(image1, 2)\n",
    "print(\"final shape of a slice is:\")\n",
    "print(arr_list[0].shape)\n",
    "\n",
    "# Now we can write this new array into a new fits files by packing it back into an HDU object\n",
    "hdu1 = fits.PrimaryHDU(arr_list[0],header1)\n",
    "hdu1.writeto('/eng/ssb/iraf_transition/test_data/imslice_out1.fits', clobber=True)\n",
    "hdu2 = fits.PrimaryHDU(arr_list[1],header1)\n",
    "hdu2.writeto('/eng/ssb/iraf_transition/test_data/imslice_out2.fits', clobber=True)"
   ]
  },
  {
   "cell_type": "markdown",
   "metadata": {},
   "source": [
    "<br>"
   ]
  },
  {
   "cell_type": "markdown",
   "metadata": {},
   "source": [
    "<a id='imcstack'></a>\n",
    "\n",
    "## imstack"
   ]
  },
  {
   "cell_type": "markdown",
   "metadata": {},
   "source": [
    "** Please review the [Notes](#notes) section above before running any examples in this notebook **\n",
    "\n",
    "imstack can take multiple fits images and stack the data, writing out a new file where the fits data is 1-dimension higher then the input images.  Here we show that manipulation using the ``astropy`` library and [``numpy.stack``](https://docs.scipy.org/doc/numpy/reference/generated/numpy.stack.html#numpy.stack)."
   ]
  },
  {
   "cell_type": "code",
   "execution_count": 25,
   "metadata": {
    "collapsed": true
   },
   "outputs": [],
   "source": [
    "# Standard Imports\n",
    "import numpy as np\n",
    "\n",
    "# Astronomy Specific Imports\n",
    "from astropy.io import fits"
   ]
  },
  {
   "cell_type": "code",
   "execution_count": 36,
   "metadata": {
    "collapsed": false
   },
   "outputs": [
    {
     "name": "stdout",
     "output_type": "stream",
     "text": [
      "final shape is:\n",
      "(2, 2048, 4096)\n"
     ]
    }
   ],
   "source": [
    "# Pull two image data arrays and image header\n",
    "header1 = fits.getheader('/eng/ssb/iraf_transition/test_data/jczgx1ppq_flc.fits',ext=1)\n",
    "image1 = fits.getdata('/eng/ssb/iraf_transition/test_data/jczgx1ppq_flc.fits')\n",
    "image2 = fits.getdata('/eng/ssb/iraf_transition/test_data/jczgx1q1q_flc.fits')\n",
    "\n",
    "# Stack arrays, the new dimension will be put first, unless otherwise specified with the axis keyword\n",
    "outstack = np.stack((image1,image2))\n",
    "print(\"final shape is:\")\n",
    "print(outstack.shape)\n",
    "\n",
    "# Now we can write this new array into a new fits file by packing it back into an HDU object\n",
    "hdu = fits.PrimaryHDU(outstack,header1)\n",
    "hdu.writeto('/eng/ssb/iraf_transition/test_data/imstack_out.fits', clobber=True)"
   ]
  },
  {
   "cell_type": "markdown",
   "metadata": {},
   "source": [
    "<br>"
   ]
  },
  {
   "cell_type": "markdown",
   "metadata": {},
   "source": [
    "<a id='imstatistics'></a>\n",
    "\n",
    "## imstatistics"
   ]
  },
  {
   "cell_type": "markdown",
   "metadata": {},
   "source": [
    "** Please review the [Notes](#notes) section above before running any examples in this notebook **\n",
    "\n",
    "We will use the ``astropy.stats.sigma_clipped_stats`` function here, which has some wider capabilites then the imstatistics function.  Please see the ``stats`` [package documentation](http://docs.astropy.org/en/stable/api/astropy.stats.sigma_clipped_stats.html) for details on the advanced usage ."
   ]
  },
  {
   "cell_type": "code",
   "execution_count": 18,
   "metadata": {
    "collapsed": true
   },
   "outputs": [],
   "source": [
    "# Astronomy Specific Imports\n",
    "from astropy.io import fits\n",
    "from astropy import stats"
   ]
  },
  {
   "cell_type": "code",
   "execution_count": 19,
   "metadata": {
    "collapsed": false
   },
   "outputs": [
    {
     "name": "stdout",
     "output_type": "stream",
     "text": [
      "(0.82121155347072006, 0.81694626808166504, 0.058198063937460652)\n"
     ]
    }
   ],
   "source": [
    "# Change these values to your desired data files\n",
    "test_data = '/eng/ssb/iraf_transition/test_data/iczgs3ygq_flt.fits'\n",
    "sci1 = fits.getdata(test_data,ext=1)\n",
    "\n",
    "# The sigma_clipped_stats function returns the mean, median, and stddev respectively\n",
    "output = stats.sigma_clipped_stats(sci1,sigma=2.0,iters=3)\n",
    "print output"
   ]
  },
  {
   "cell_type": "markdown",
   "metadata": {},
   "source": [
    "<br>"
   ]
  },
  {
   "cell_type": "markdown",
   "metadata": {},
   "source": [
    "<a id='imsum'></a>\n",
    "\n",
    "## imsum"
   ]
  },
  {
   "cell_type": "markdown",
   "metadata": {},
   "source": [
    "** Please review the [Notes](#notes) section above before running any examples in this notebook **\n",
    "\n",
    "We will be using the ``ccdproc`` ``Combiner`` class here.  Keep in mind that the original fits header is not retained in the ``CCDData`` object.  Please see the documentation for more details (http://ccdproc.readthedocs.io/en/latest/ccdproc/image_combination.html)."
   ]
  },
  {
   "cell_type": "code",
   "execution_count": 18,
   "metadata": {
    "collapsed": false
   },
   "outputs": [],
   "source": [
    "# Astronomy Specific Imports\n",
    "from astropy.io import fits\n",
    "from astropy import units\n",
    "from ccdproc import CCDData, Combiner"
   ]
  },
  {
   "cell_type": "code",
   "execution_count": 17,
   "metadata": {
    "collapsed": false
   },
   "outputs": [
    {
     "name": "stdout",
     "output_type": "stream",
     "text": [
      "INFO: using the unit electron / s passed to the FITS reader instead of the unit ELECTRONS/S in the FITS file. [ccdproc.ccddata]\n",
      "INFO: using the unit electron / s passed to the FITS reader instead of the unit ELECTRONS/S in the FITS file. [ccdproc.ccddata]\n",
      "[[  0.87720111   0.82106587   0.79521415 ...,   3.87308204   7.41545987\n",
      "    9.01969481]\n",
      " [  0.89028609   0.7884455    0.8240625  ...,   0.86163342   4.53510189\n",
      "    0.99109203]\n",
      " [  0.81683022   0.83273572   0.82175627 ...,   3.60699821  -7.82266164\n",
      "    2.95994186]\n",
      " ..., \n",
      " [ 40.72796059  15.36561799  -8.79329443 ...,  22.68277168  25.31048012\n",
      "   28.829813  ]\n",
      " [ 46.28870392  -4.50218874   1.74757147 ...,  13.24364138  25.70440292\n",
      "   11.0971849 ]\n",
      " [ 42.8106432   29.66250706  63.18441772 ...,   0.           9.80057049\n",
      "   22.66858006]]\n"
     ]
    }
   ],
   "source": [
    "# Change these values to your desired data files\n",
    "test_data1 = '/eng/ssb/iraf_transition/test_data/iczgs3y5q_flt.fits'\n",
    "test_data2 = '/eng/ssb/iraf_transition/test_data/iczgs3ygq_flt.fits'\n",
    "\n",
    "# First we need to pull out the science arrays to create CCDData objects\n",
    "# Our acutal unit is electrons/sec, this is not accepted by the current\n",
    "# set of units\n",
    "cdata1 = CCDData.read(test_data1, hdu=1, unit=units.electron/units.s)\n",
    "cdata2 = cdata1.copy()\n",
    "cdata3 = CCDData.read(test_data2, hdu=1, unit=units.electron/units.s)\n",
    "cdata4 = cdata3.copy()\n",
    "combiner = Combiner([cdata1, cdata2, cdata3, cdata4])\n",
    "\n",
    "# Now we can make our mask for extrema clipping\n",
    "# The equivalent of low_reject, high_reject parameter\n",
    "combiner.clip_extrema(nlow=1, nhigh=1)\n",
    "\n",
    "# And finally to combine...\n",
    "final_combine = combiner.average_combine()\n",
    "print final_combine.data"
   ]
  },
  {
   "cell_type": "markdown",
   "metadata": {},
   "source": [
    "<br>"
   ]
  },
  {
   "cell_type": "markdown",
   "metadata": {},
   "source": [
    "<a id='listpixels'></a>\n",
    "\n",
    "## listpixels"
   ]
  },
  {
   "cell_type": "markdown",
   "metadata": {},
   "source": [
    "** Please review the [Notes](#notes) section above before running any examples in this notebook **\n",
    "\n",
    "listpixels was used to list an indexed section of a FITs data array.  This is easy to do using ``astropy``, but keep in mind that Python indexs from zero, and with the y-axis leading, i.e. [y,x].  You also want to end the cut with the pixel *after* the end pixel.  So to get 1-10 in x and 5-15 in y, you will index like so: array[4:15,0:10]"
   ]
  },
  {
   "cell_type": "code",
   "execution_count": 56,
   "metadata": {
    "collapsed": true
   },
   "outputs": [],
   "source": [
    "# Astronomy Specific Imports\n",
    "from astropy.io import fits"
   ]
  },
  {
   "cell_type": "code",
   "execution_count": 58,
   "metadata": {
    "collapsed": false
   },
   "outputs": [
    {
     "name": "stdout",
     "output_type": "stream",
     "text": [
      "[[ 0.86692303  0.80678135]\n",
      " [ 0.83312052  0.76854318]\n",
      " [ 0.77341086  0.80276382]\n",
      " [ 0.80539584  0.78261763]\n",
      " [ 0.78274417  0.82206035]]\n"
     ]
    }
   ],
   "source": [
    "# Change these values to your desired data files\n",
    "test_data1 = '/eng/ssb/iraf_transition/test_data/iczgs3y5q_flt.fits'\n",
    "\n",
    "# To quickly pull out the data array you can use the astropy convience fucntion\n",
    "data_arr = fits.getdata(test_data1,ext=1)\n",
    "\n",
    "# Now we can index the array as desired, we're cutting out 5 in y, and 2 in x\n",
    "print data_arr[0:5,0:2]"
   ]
  },
  {
   "cell_type": "markdown",
   "metadata": {},
   "source": [
    "<br>"
   ]
  },
  {
   "cell_type": "markdown",
   "metadata": {},
   "source": [
    "## Not Replacing"
   ]
  },
  {
   "cell_type": "markdown",
   "metadata": {
    "collapsed": true
   },
   "source": [
    "* imrename - can use command line utilities or the Python ``os`` package for  this functionality.\n",
    "* imdelete - can use command line utilities or the Python ``os`` package for  this functionality.\n",
    "* imtile - **may** replace infuture\n",
    "* sections - IRAF utility function\n",
    "* imgets - see [**images.imutil.hselect**](#hselect)\n",
    "* minmax - see [**images.imutil.imstat**](#imstat)"
   ]
  },
  {
   "cell_type": "markdown",
   "metadata": {},
   "source": [
    "For questions or comments please see [our github page](https://github.com/spacetelescope/stak).  We encourage and appreciate user feedback."
   ]
  }
 ],
 "metadata": {
  "kernelspec": {
   "display_name": "Python 2",
   "language": "python",
   "name": "python2"
  },
  "language_info": {
   "codemirror_mode": {
    "name": "ipython",
    "version": 2
   },
   "file_extension": ".py",
   "mimetype": "text/x-python",
   "name": "python",
   "nbconvert_exporter": "python",
   "pygments_lexer": "ipython2",
   "version": "2.7.12"
  }
 },
 "nbformat": 4,
 "nbformat_minor": 0
}
